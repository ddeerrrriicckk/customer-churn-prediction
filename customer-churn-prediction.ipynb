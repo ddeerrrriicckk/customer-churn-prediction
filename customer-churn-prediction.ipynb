{
  "nbformat": 4,
  "nbformat_minor": 0,
  "metadata": {
    "colab": {
      "provenance": [],
      "toc_visible": true,
      "machine_shape": "hm"
    },
    "kernelspec": {
      "name": "python3",
      "display_name": "Python 3"
    },
    "language_info": {
      "name": "python"
    },
    "gpuClass": "standard"
  },
  "cells": [
    {
      "cell_type": "markdown",
      "source": [
        "# **Project: Customer Churn Prediction**\n",
        "\n",
        "---\n",
        "\n",
        "\n",
        "## Motivation and Objective\n",
        "The project's goal is to build a classifier for customer churn. Customer churn is an important metric that the company wants to track. It will assist them in determining whether the product improves customer tenure and calculating customer lifetime values in order to determine whether the product is financially healthy. In addition, the company would occasionally run customer retention campaigns targeted at customers with high churn probabilities.\n",
        "\n",
        "\n",
        "---\n",
        "## Instructions for Code Running and Environment Setup\n",
        "The following code and comments are pretty self-explanatory in Colab with the required pakcages:\n",
        "\n",
        "\n"
      ],
      "metadata": {
        "id": "9T8i-8pcA-uj"
      }
    },
    {
      "cell_type": "code",
      "source": [
        "from google.colab import drive\n",
        "drive.mount('/content/gdrive')\n",
        "\n",
        "import pandas as pd\n",
        "import numpy as np\n",
        "import math\n",
        "import matplotlib.pyplot as plt\n",
        "from sklearn import preprocessing\n",
        "from sklearn.preprocessing import StandardScaler\n",
        "from sklearn.ensemble import ExtraTreesClassifier\n",
        "from sklearn.model_selection import train_test_split\n",
        "from sklearn.tree import DecisionTreeClassifier\n",
        "from sklearn.model_selection import GridSearchCV\n",
        "from sklearn.metrics import accuracy_score, f1_score\n",
        "from imblearn.over_sampling import SMOTE\n",
        "import warnings"
      ],
      "metadata": {
        "colab": {
          "base_uri": "https://localhost:8080/"
        },
        "id": "kKsSjfuJxAOm",
        "outputId": "5d2b6dfb-7a74-407d-cb02-e2bd8cb341c1"
      },
      "execution_count": null,
      "outputs": [
        {
          "output_type": "stream",
          "name": "stdout",
          "text": [
            "Mounted at /content/gdrive\n"
          ]
        }
      ]
    },
    {
      "cell_type": "markdown",
      "source": [
        "---\n",
        "\n",
        "## Data Loading\n",
        "The data is from Kaggle (https://www.kaggle.com/datasets/blastchar/telco-customer-churn?select=WA_Fn-UseC_-Telco-Customer-Churn.csv). The data set includes 7043 customers, 20 columns for customer profiles, and 1 outcome variable indicating whether or not customers churn."
      ],
      "metadata": {
        "id": "uMf4G6UMwgVr"
      }
    },
    {
      "cell_type": "code",
      "execution_count": null,
      "metadata": {
        "id": "iokGiZnqAzL9",
        "colab": {
          "base_uri": "https://localhost:8080/"
        },
        "outputId": "86f1618c-980d-4a08-cf8c-293fdb1e4077"
      },
      "outputs": [
        {
          "output_type": "stream",
          "name": "stdout",
          "text": [
            "Dataset contains 7043 customers and 21 columns\n",
            "\n",
            "\n",
            "Dataset contains the following columns:\n",
            "customerID           object\n",
            "gender               object\n",
            "SeniorCitizen         int64\n",
            "Partner              object\n",
            "Dependents           object\n",
            "tenure                int64\n",
            "PhoneService         object\n",
            "MultipleLines        object\n",
            "InternetService      object\n",
            "OnlineSecurity       object\n",
            "OnlineBackup         object\n",
            "DeviceProtection     object\n",
            "TechSupport          object\n",
            "StreamingTV          object\n",
            "StreamingMovies      object\n",
            "Contract             object\n",
            "PaperlessBilling     object\n",
            "PaymentMethod        object\n",
            "MonthlyCharges      float64\n",
            "TotalCharges         object\n",
            "Churn                object\n",
            "dtype: object\n"
          ]
        }
      ],
      "source": [
        "df = pd.read_csv('/content/gdrive/My Drive/Fall 2022/CptS 437 Intro to machine learning/Project/WA_Fn-UseC_-Telco-Customer-Churn.csv')\n",
        "print(\"Dataset contains\",df.shape[0],\"customers and\",df.shape[1],\"columns\")\n",
        "print(\"\\n\")\n",
        "print(\"Dataset contains the following columns:\")\n",
        "print(df.dtypes)"
      ]
    },
    {
      "cell_type": "markdown",
      "source": [
        "\n",
        "\n",
        "---\n",
        "\n",
        "\n",
        "\n",
        "## Data Preparation\n",
        "\n",
        "The preparation process involves the following steps:\n",
        "1. Remove any columns that are irrelevant to the customer churn, such as customerID\n",
        "2. Clean data types\n",
        "3. Check for missing data and, if any, impute it\n",
        "4. Use LabelEncoder in sklearn to transform the categorical columns into numerical\n",
        "5. Feature scaling\n",
        "6. Use ExtraTreesClassifier in sklearn to select the top 10 most important features to include in the model. This reduces the possibility of overfitting and improves model computational time\n",
        "7. Split data into 80% training, and 20% test. Training data will be used to train the classifiers, and the remaining 20% test dataset will be used to report the model accuracy\n",
        "8. Check the distribution of outcome variables in the training set and deal with any class imbalances, such as oversampling the minority class using SMOTE\n"
      ],
      "metadata": {
        "id": "TJvwth8YW-cA"
      }
    },
    {
      "cell_type": "code",
      "source": [
        "# 1. Remove irrelevant columns\n",
        "\n",
        "df = df.drop(columns=\"customerID\")\n",
        "print(\"After dropping 'customerID', the new dataset contains\",df.shape[0],\"customers and\",df.shape[1],\"columns\")"
      ],
      "metadata": {
        "id": "EvGDQ-QWXO7P",
        "colab": {
          "base_uri": "https://localhost:8080/"
        },
        "outputId": "e4a9a4c2-d89c-48b8-ee0c-ca7f354175c2"
      },
      "execution_count": null,
      "outputs": [
        {
          "output_type": "stream",
          "name": "stdout",
          "text": [
            "After dropping 'customerID', the new dataset contains 7043 customers and 20 columns\n"
          ]
        }
      ]
    },
    {
      "cell_type": "code",
      "source": [
        "# 2. Clean data types.\n",
        "# categorical: gender, SeniorCitizen, Partner, Dependents, PhoneService, MultipleLines, InternetService, OnlineSecurity, OnlineBackup, DeviceProtection\n",
        "#              , TechSupport, StreamingTV, StreamingMovies, Contract, PaperlessBilling, PaymentMethod, Churn\n",
        "# numerical: tenure, MonthlyCharges, TotalCharges\n",
        "\n",
        "for col in ['gender', 'SeniorCitizen', 'Partner', 'Dependents', 'PhoneService'\n",
        "            , 'MultipleLines', 'InternetService', 'OnlineSecurity', 'OnlineBackup'\n",
        "            , 'DeviceProtection', 'TechSupport', 'StreamingTV', 'StreamingMovies'\n",
        "            , 'Contract', 'PaperlessBilling', 'PaymentMethod', 'Churn']:\n",
        "    df[col] = df[col].astype('category')\n",
        "\n",
        "for col in ['tenure', 'MonthlyCharges', 'TotalCharges']:\n",
        "    df[col] = pd.to_numeric(df[col], errors='coerce')\n",
        "\n",
        "print(\"The data types after cleaning are:\")\n",
        "print(df.dtypes)"
      ],
      "metadata": {
        "colab": {
          "base_uri": "https://localhost:8080/"
        },
        "id": "TlHfPVLSLvbT",
        "outputId": "57629408-6439-4d77-ca9a-6ad9f112fe2a"
      },
      "execution_count": null,
      "outputs": [
        {
          "output_type": "stream",
          "name": "stdout",
          "text": [
            "The data types after cleaning are:\n",
            "gender              category\n",
            "SeniorCitizen       category\n",
            "Partner             category\n",
            "Dependents          category\n",
            "tenure                 int64\n",
            "PhoneService        category\n",
            "MultipleLines       category\n",
            "InternetService     category\n",
            "OnlineSecurity      category\n",
            "OnlineBackup        category\n",
            "DeviceProtection    category\n",
            "TechSupport         category\n",
            "StreamingTV         category\n",
            "StreamingMovies     category\n",
            "Contract            category\n",
            "PaperlessBilling    category\n",
            "PaymentMethod       category\n",
            "MonthlyCharges       float64\n",
            "TotalCharges         float64\n",
            "Churn               category\n",
            "dtype: object\n"
          ]
        }
      ]
    },
    {
      "cell_type": "code",
      "source": [
        "# 3. Missing data imputation\n",
        "\n",
        "print(df.isnull().sum())\n",
        "print(\"\\n\")\n",
        "print(\"Based on the results, there are 11 missing values for 'TotalCharges'. We can simply delete these 11 records.\")\n",
        "df = df.dropna()\n",
        "print(\"After dropping the rows with missing values, the new dataset contains\",df.shape[0],\"customers and\",df.shape[1],\"columns\")"
      ],
      "metadata": {
        "colab": {
          "base_uri": "https://localhost:8080/"
        },
        "id": "PX9lpkul6pB-",
        "outputId": "0a26c1d9-0190-4f79-e2a1-5045a23c2802"
      },
      "execution_count": null,
      "outputs": [
        {
          "output_type": "stream",
          "name": "stdout",
          "text": [
            "gender               0\n",
            "SeniorCitizen        0\n",
            "Partner              0\n",
            "Dependents           0\n",
            "tenure               0\n",
            "PhoneService         0\n",
            "MultipleLines        0\n",
            "InternetService      0\n",
            "OnlineSecurity       0\n",
            "OnlineBackup         0\n",
            "DeviceProtection     0\n",
            "TechSupport          0\n",
            "StreamingTV          0\n",
            "StreamingMovies      0\n",
            "Contract             0\n",
            "PaperlessBilling     0\n",
            "PaymentMethod        0\n",
            "MonthlyCharges       0\n",
            "TotalCharges        11\n",
            "Churn                0\n",
            "dtype: int64\n",
            "\n",
            "\n",
            "Based on the results, there are 11 missing values for 'TotalCharges'. We can simply delete these 11 records.\n",
            "After dropping the rows with missing values, the new dataset contains 7032 customers and 20 columns\n"
          ]
        }
      ]
    },
    {
      "cell_type": "code",
      "source": [
        "# 4. Data transformation\n",
        "\n",
        "le = preprocessing.LabelEncoder()\n",
        "\n",
        "for col in df.columns:\n",
        "  df[col] = le.fit_transform(df[col])\n",
        "\n",
        "print(\"The data types after label encoding are:\")\n",
        "print(df.dtypes)"
      ],
      "metadata": {
        "colab": {
          "base_uri": "https://localhost:8080/"
        },
        "id": "VDbLk0sKRrx7",
        "outputId": "0ace2460-a078-485a-cad5-fdc4db412483"
      },
      "execution_count": null,
      "outputs": [
        {
          "output_type": "stream",
          "name": "stdout",
          "text": [
            "The data types after label encoding are:\n",
            "gender              int64\n",
            "SeniorCitizen       int64\n",
            "Partner             int64\n",
            "Dependents          int64\n",
            "tenure              int64\n",
            "PhoneService        int64\n",
            "MultipleLines       int64\n",
            "InternetService     int64\n",
            "OnlineSecurity      int64\n",
            "OnlineBackup        int64\n",
            "DeviceProtection    int64\n",
            "TechSupport         int64\n",
            "StreamingTV         int64\n",
            "StreamingMovies     int64\n",
            "Contract            int64\n",
            "PaperlessBilling    int64\n",
            "PaymentMethod       int64\n",
            "MonthlyCharges      int64\n",
            "TotalCharges        int64\n",
            "Churn               int64\n",
            "dtype: object\n"
          ]
        }
      ]
    },
    {
      "cell_type": "code",
      "source": [
        "# 5. Feature scaling\n",
        "\n",
        "X = df.iloc[:,0:19]\n",
        "y = df[\"Churn\"]\n",
        "\n",
        "sc = StandardScaler()\n",
        "sc.fit(X)\n",
        "normalized_X = sc.transform(X)\n",
        "\n",
        "X = pd.DataFrame(normalized_X, columns = X.columns)"
      ],
      "metadata": {
        "id": "RaAh4xYO7Lg7"
      },
      "execution_count": null,
      "outputs": []
    },
    {
      "cell_type": "code",
      "source": [
        "# 6. Feature selection\n",
        "\n",
        "classifier = ExtraTreesClassifier(random_state = 111)\n",
        "classifier.fit(X, y)\n",
        "# feature importance visualization\n",
        "feature_importance = pd.Series(classifier.feature_importances_, index = X.columns)\n",
        "feature_importance.nlargest(10).plot(kind='barh')\n",
        "plt.title(\"Top 10 most important features related to churn\")\n",
        "plt.show()\n",
        "\n",
        "X_reduced = X[feature_importance.nlargest(10).index]"
      ],
      "metadata": {
        "colab": {
          "base_uri": "https://localhost:8080/",
          "height": 281
        },
        "id": "LhRSo1hIT17s",
        "outputId": "d1cf6928-7720-4a40-d039-3509fe448ef9"
      },
      "execution_count": null,
      "outputs": [
        {
          "output_type": "display_data",
          "data": {
            "text/plain": [
              "<Figure size 432x288 with 1 Axes>"
            ],
            "image/png": "[encoded data removed]"
          },
          "metadata": {
            "needs_background": "light"
          }
        }
      ]
    },
    {
      "cell_type": "code",
      "source": [
        "# 7. Split data into 80% training, 20% test\n",
        "\n",
        "X_train, X_test, y_train, y_test = train_test_split(X_reduced, y, test_size=0.2, train_size=0.8, random_state=111)\n",
        "\n",
        "print(\"X_train has\", X_train.shape[0], \"instances and\", X_train.shape[1], \"features\")\n",
        "print(\"X_test has\", X_test.shape[0], \"instances and\", X_test.shape[1], \"features\")\n",
        "\n",
        "print(\"y_train has\", y_train.shape[0], \"instances\")\n",
        "print(\"y_test has\", y_test.shape[0], \"instances\")"
      ],
      "metadata": {
        "colab": {
          "base_uri": "https://localhost:8080/"
        },
        "id": "dwCrOIdiWK7R",
        "outputId": "7160e55e-4b4b-4cc2-e0e4-1add59688482"
      },
      "execution_count": null,
      "outputs": [
        {
          "output_type": "stream",
          "name": "stdout",
          "text": [
            "X_train has 5625 instances and 10 features\n",
            "X_test has 1407 instances and 10 features\n",
            "y_train has 5625 instances\n",
            "y_test has 1407 instances\n"
          ]
        }
      ]
    },
    {
      "cell_type": "code",
      "source": [
        "# 8. Deal with class imbalance\n",
        "\n",
        "print(\"Outcome variable in the training has the following distribution:\")\n",
        "count = y_train.value_counts()\n",
        "frequency = y_train.value_counts(normalize=True)\n",
        "print(pd.concat([count,frequency], axis=1, keys=['counts', '%']))\n",
        "\n",
        "print(\"\\n Because we have fewer churn classes, we can oversample the churn class using SMOTE, which is better at dealing with overfitting than random oversampling.\")\n",
        "\n",
        "oversample = SMOTE()\n",
        "X_train, y_train = oversample.fit_resample(X_train, y_train)\n",
        "\n",
        "print(\"\\n After oversampling, the outcome variable in the training has the new distribution as follows, which is more balanced:\")\n",
        "count = y_train.value_counts()\n",
        "frequency = y_train.value_counts(normalize=True)\n",
        "print(pd.concat([count,frequency], axis=1, keys=['counts', '%']))"
      ],
      "metadata": {
        "colab": {
          "base_uri": "https://localhost:8080/"
        },
        "id": "fTwBSu9P7Jo_",
        "outputId": "1ca14ff9-4892-4d73-b7c3-5dccff0236e3"
      },
      "execution_count": null,
      "outputs": [
        {
          "output_type": "stream",
          "name": "stdout",
          "text": [
            "Outcome variable in the training has the following distribution:\n",
            "   counts         %\n",
            "0    4148  0.737422\n",
            "1    1477  0.262578\n",
            "\n",
            " Because we have fewer churn classes, we can oversample the churn class using SMOTE, which is better at dealing with overfitting than random oversampling.\n",
            "\n",
            " After oversampling, the outcome variable in the training has the new distribution as follows, which is more balanced:\n",
            "   counts    %\n",
            "0    4148  0.5\n",
            "1    4148  0.5\n"
          ]
        }
      ]
    },
    {
      "cell_type": "markdown",
      "source": [
        "\n",
        "\n",
        "---\n",
        "\n",
        "\n",
        "## Classifer Training\n",
        "This project focuses on experimenting with two classifiers: decision tree and two-layer neural network.\n",
        "\n",
        "\n",
        "\n"
      ],
      "metadata": {
        "id": "4x-qxiXXXPPP"
      }
    },
    {
      "cell_type": "markdown",
      "source": [
        "---\n",
        "\n",
        "\n",
        "\n",
        "### Classifer Comparison\n",
        "Accuracy and f1-score are used to compare the performance of classifiers"
      ],
      "metadata": {
        "id": "t99aAZy9tQF8"
      }
    },
    {
      "cell_type": "code",
      "source": [
        "def DTmodel_eval(clf):\n",
        "    print('Training Accuracy: %.3f' % accuracy_score(y_train, clf.predict(X_train)))\n",
        "    print('Test Accuracy: %.3f' % accuracy_score(y_test, clf.predict(X_test)))\n",
        "    print(\"\\n\")\n",
        "    print('Training F1 Score: %.3f' % f1_score(y_train, clf.predict(X_train)))\n",
        "    print('Test F1 Score: %.3f' % f1_score(y_test, clf.predict(X_test)))\n",
        "\n",
        "def NNmodel_eval(clf):\n",
        "    print('Training Accuracy: %.3f' % accuracy_score(y_train, TwoLayerNetworkPredict(clf, X_train)))\n",
        "    print('Test Accuracy: %.3f' % accuracy_score(y_test, TwoLayerNetworkPredict(clf, X_test)))\n",
        "    print(\"\\n\")\n",
        "    print('Training F1 Score: %.3f' % f1_score(y_train, TwoLayerNetworkPredict(clf, X_train)))\n",
        "    print('Test F1 Score: %.3f' % f1_score(y_test, TwoLayerNetworkPredict(clf, X_test)))"
      ],
      "metadata": {
        "id": "yfwMMYyarxt-"
      },
      "execution_count": null,
      "outputs": []
    },
    {
      "cell_type": "markdown",
      "source": [
        "---\n",
        "\n",
        "\n",
        "\n",
        "### 1. Decision Tree\n",
        "\n",
        "For decision tree, *DecisionTreeClassifier* in sklearn is simply adopted to train the model, with *GridSearchCV* in sklearn used to tune the following  hyperparameters:\n",
        "* max_depth (max. depth of the tree)\n",
        "* min_samples_leaf (min. number of samples required at each leaf node)\n",
        "* criterion (\"gini\" or \"entropy\" used to measure the quality of split)\n"
      ],
      "metadata": {
        "id": "7I0iIaP6m6fU"
      }
    },
    {
      "cell_type": "code",
      "source": [
        "# without hyperparameters tuning\n",
        "DT_simple = DecisionTreeClassifier(random_state = 111, max_depth = 1, min_samples_leaf = 50, criterion = \"entropy\")\n",
        "DT_simple.fit(X_train, y_train)\n",
        "\n",
        "print(\"Decison tree classifier without any hyperparameters tuning has the prediction performance as follows:\")\n",
        "DTmodel_eval(DT_simple)"
      ],
      "metadata": {
        "id": "T_B9_YM7Yl1-",
        "colab": {
          "base_uri": "https://localhost:8080/"
        },
        "outputId": "2dba9641-4f4a-4eea-b90d-0638a51f5f35"
      },
      "execution_count": null,
      "outputs": [
        {
          "output_type": "stream",
          "name": "stdout",
          "text": [
            "Decison tree classifier without any hyperparameters tuning has the prediction performance as follows:\n",
            "Training Accuracy: 0.738\n",
            "Test Accuracy: 0.662\n",
            "\n",
            "\n",
            "Training F1 Score: 0.776\n",
            "Test F1 Score: 0.595\n"
          ]
        }
      ]
    },
    {
      "cell_type": "code",
      "source": [
        "# with parameter tuning\n",
        "\n",
        "params = {\n",
        "    'max_depth': [None, 1, 2, 3, 5, 10, 15, 20],\n",
        "    'min_samples_leaf': [1, 2, 3, 5, 10, 15, 20, 30, 40, 50],\n",
        "    'criterion': [\"gini\", \"entropy\"]\n",
        "    }\n",
        "\n",
        "grid_search = GridSearchCV(estimator = DecisionTreeClassifier(),\n",
        "                           param_grid = params,\n",
        "                           cv = 5,\n",
        "                           n_jobs = -1,\n",
        "                           scoring = \"f1\")\n",
        "grid_search.fit(X_train, y_train)\n",
        "\n",
        "print(\"The tuned decision tree classifier:\", grid_search.best_estimator_)\n",
        "print(\"\\n\")\n",
        "DT_tuned = grid_search.best_estimator_\n",
        "print(\"Decison tree classifier after hyperparameters tuning has the prediction performance as follows:\")\n",
        "DTmodel_eval(DT_tuned)"
      ],
      "metadata": {
        "colab": {
          "base_uri": "https://localhost:8080/"
        },
        "id": "9HCu-q8vu7X3",
        "outputId": "e822d4c3-8484-4593-9208-8e8145169fcd"
      },
      "execution_count": null,
      "outputs": [
        {
          "output_type": "stream",
          "name": "stdout",
          "text": [
            "The tuned decision tree classifier: DecisionTreeClassifier(max_depth=10, min_samples_leaf=3)\n",
            "\n",
            "\n",
            "Decison tree classifier after hyperparameters tuning has the prediction performance as follows:\n",
            "Training Accuracy: 0.850\n",
            "Test Accuracy: 0.743\n",
            "\n",
            "\n",
            "Training F1 Score: 0.856\n",
            "Test F1 Score: 0.607\n"
          ]
        }
      ]
    },
    {
      "cell_type": "markdown",
      "source": [
        "\n",
        "\n",
        "---\n",
        "\n",
        "\n",
        "### 2. Two-layer Neural Network\n",
        "For two-layer neural network, the algorithm is coded from scratch. The following hyperparameters are included in the model:\n",
        "* number of hiddden nodes\n",
        "* number of epochs\n",
        "* learning rate\n",
        "* activation function choice\n",
        "\n",
        "The best set of hyperparameters is also determined based on the best f1-score obtained on the training dataset."
      ],
      "metadata": {
        "id": "R9LQE1eDYx5E"
      }
    },
    {
      "cell_type": "code",
      "source": [
        "# input: activation function name, value\n",
        "# output[0]: activation function; output[1]: derivative of activation function\n",
        "def activation_function(activation, a):\n",
        "  if activation == \"tanh\":\n",
        "    t = np.tanh(a)\n",
        "    dt = 1.0 - t ** 2\n",
        "    return t, dt\n",
        "  if activation == \"sigmoid\":\n",
        "    s = 1.0 / (1.0 + np.exp(-a))\n",
        "    ds = s * (1.0 - s)\n",
        "    return s, ds\n",
        "  if activation == \"ReLU\":\n",
        "    r = max(0.0, a)\n",
        "    dr = 1.0 if a > 0 else 0.0\n",
        "    return r, dr\n",
        "  if activation == \"leaky ReLU\":\n",
        "    l = max(0.01 * a, a)\n",
        "    dl = 1.0 if a > 0 else 0.01\n",
        "    return l, dl"
      ],
      "metadata": {
        "id": "lQsv-6jGo4Ek"
      },
      "execution_count": null,
      "outputs": []
    },
    {
      "cell_type": "code",
      "source": [
        "def forward_propagation(X_n, y_n, W, v, activation):\n",
        "  K = v.size\n",
        "  a = np.zeros([K])\n",
        "  h = np.zeros([K])\n",
        "  for i in range(K):\n",
        "    a[i] = np.dot(W[i], X_n)\n",
        "    h[i] = activation_function(activation, a[i])[0] # compute activation of hidden unit\n",
        "  y_hat = 0 if np.tanh(np.dot(v, h)) <0 else 1   # compute output unit\n",
        "  return y_hat, a, h"
      ],
      "metadata": {
        "id": "1Fl2KK3yj8wj"
      },
      "execution_count": null,
      "outputs": []
    },
    {
      "cell_type": "code",
      "source": [
        "def backward_propagation(X_n, y_n, y_hat, a, h, g, v, G, activation):\n",
        "  e = y_n - y_hat # compute error\n",
        "  g = g - e * h # update gradient for output layer\n",
        "  K = v.size\n",
        "  for i in range(K):\n",
        "    G[i] = G[i] - e * v[i] * activation_function(activation, a[i])[1] * X_n # update gradient for input layer\n",
        "  return G, g"
      ],
      "metadata": {
        "id": "XXfA1l_T0MwP"
      },
      "execution_count": null,
      "outputs": []
    },
    {
      "cell_type": "code",
      "source": [
        "def TwoLayerNetworkTrain(X, y, n_hidden = 5, n_epoch = 1, learning_rate = 0.1, activation = \"tanh\"):\n",
        "  D = X.shape[1] # number of features\n",
        "  K = n_hidden # number of hidden nodes\n",
        "\n",
        "  np.random.seed(111)\n",
        "  W = np.random.normal(scale = 0.5, size = (K, D)) # initialize input layer weights\n",
        "  v = np.random.normal(scale = 0.5, size = K) # initialize output layer weights\n",
        "\n",
        "  for i in range(n_epoch):\n",
        "    G = np.zeros([K, D]) # initialize input layer gradients\n",
        "    g = np.zeros(K) # initialize output layer gradients\n",
        "    for n in range(len(y)):\n",
        "      y_hat, a, h = forward_propagation(X.iloc[n], y.iloc[n], W, v, activation)\n",
        "      G, g = backward_propagation(X.iloc[n], y.iloc[n], y_hat, a, h, g, v, G, activation)\n",
        "\n",
        "    W = W - learning_rate * G # update input layer weights\n",
        "    v = v - learning_rate * g # update output layer weights\n",
        "\n",
        "  return W, v, activation"
      ],
      "metadata": {
        "id": "OxjRHdvpYxnp"
      },
      "execution_count": null,
      "outputs": []
    },
    {
      "cell_type": "code",
      "source": [
        "def TwoLayerNetworkPredict(NN_model, X):\n",
        "  W, v, activation = NN_model\n",
        "  K = v.size\n",
        "  n_instance = X.shape[0]\n",
        "  h = np.zeros([K])\n",
        "  y_pred = np.ones([n_instance])\n",
        "\n",
        "  for n in range(X.shape[0]):\n",
        "    for i in range(K):\n",
        "      h[i] = activation_function(activation, np.dot(W[i], X.iloc[n]))[0]\n",
        "    y_pred[n] = 0 if np.tanh(np.dot(v, h)) <0 else 1\n",
        "  return y_pred"
      ],
      "metadata": {
        "id": "flccETwZ5Ssi"
      },
      "execution_count": null,
      "outputs": []
    },
    {
      "cell_type": "code",
      "source": [
        "# without hyperparameters tuning\n",
        "\n",
        "NN_simple = TwoLayerNetworkTrain(X_train, y_train, n_hidden = 5, n_epoch = 1, learning_rate = 0.1, activation = \"tanh\")\n",
        "print(\"Two-layer Neural Network classifier without any hyperparameters tuning has the prediction performance as follows:\")\n",
        "NNmodel_eval(NN_simple)"
      ],
      "metadata": {
        "colab": {
          "base_uri": "https://localhost:8080/"
        },
        "id": "4Ojwz2bD_x76",
        "outputId": "3cd982a1-a909-46e9-bf93-60b349a6ea05"
      },
      "execution_count": null,
      "outputs": [
        {
          "output_type": "stream",
          "name": "stdout",
          "text": [
            "Two-layer Neural Network classifier without any hyperparameters tuning has the prediction performance as follows:\n",
            "Training Accuracy: 0.334\n",
            "Test Accuracy: 0.371\n",
            "\n",
            "\n",
            "Training F1 Score: 0.261\n",
            "Test F1 Score: 0.155\n"
          ]
        }
      ]
    },
    {
      "cell_type": "code",
      "source": [
        "# with parameter tuning\n",
        "params = {\n",
        "    'n_hidden': [5, 10, 15],\n",
        "    'n_epoch': [1, 2, 5, 10],\n",
        "    'learning_rate': [0.001, 0.01, 0.1],\n",
        "    'activation': [\"tanh\", \"sigmoid\", \"ReLU\", \"leaky ReLU\"]\n",
        "    }\n",
        "f1_dict = {'n_hidden': [],\n",
        "            'n_epoch': [],\n",
        "            'learning_rate': [],\n",
        "            'activation': [],\n",
        "            'f1_score': []}\n",
        "for i in range(len(params[\"n_hidden\"])):\n",
        "  for j in range(len(params[\"n_epoch\"])):\n",
        "    for m in range(len(params[\"learning_rate\"])):\n",
        "      for n in range(len(params[\"activation\"])):\n",
        "        n_hidden = params[\"n_hidden\"][i]\n",
        "        n_epoch = params[\"n_epoch\"][j]\n",
        "        learning_rate = params[\"learning_rate\"][m]\n",
        "        activation = params[\"activation\"][n]\n",
        "        warnings.filterwarnings('ignore')\n",
        "        NN_model = TwoLayerNetworkTrain(X_train, y_train, n_hidden = n_hidden, n_epoch = n_epoch, learning_rate = learning_rate, activation = activation)\n",
        "        f1 = f1_score(y_train, TwoLayerNetworkPredict(NN_model, X_train))\n",
        "        f1_dict['n_hidden'].append(n_hidden)\n",
        "        f1_dict['n_epoch'].append(n_epoch)\n",
        "        f1_dict['learning_rate'].append(learning_rate)\n",
        "        f1_dict['activation'].append(activation)\n",
        "        f1_dict['f1_score'].append(f1)\n",
        "        # print(\"n_hidden:\", n_hidden, \";\",\n",
        "        #       \"n_epoch:\", n_epoch, \";\",\n",
        "        #       \"learning_rate:\", learning_rate, \";\",\n",
        "        #       \"activation:\", activation, \";\"\n",
        "        #       \"f1_score:\", f1)\n",
        "\n",
        "\n",
        "index = f1_dict[\"f1_score\"].index(max(f1_dict[\"f1_score\"]))\n",
        "print(\"The best f1 score obtained is: %.3f\", f1_dict[\"f1_score\"][index],\"with the following parameter:\")\n",
        "print(\"n_hidden:\", f1_dict[\"n_hidden\"][index])\n",
        "print(\"n_epoch:\", f1_dict[\"n_epoch\"][index])\n",
        "print(\"learning_rate:\", f1_dict[\"learning_rate\"][index])\n",
        "print(\"activation:\", f1_dict[\"activation\"][index])"
      ],
      "metadata": {
        "id": "QkY0ulzcKwDh",
        "colab": {
          "base_uri": "https://localhost:8080/"
        },
        "outputId": "899cf2d3-8961-458f-c636-d0d76057d4d7"
      },
      "execution_count": null,
      "outputs": [
        {
          "output_type": "stream",
          "name": "stdout",
          "text": [
            "The best f1 score obtained is: %.3f 0.7705319385711106 with the following parameter:\n",
            "n_hidden: 15\n",
            "n_epoch: 5\n",
            "learning_rate: 0.001\n",
            "activation: sigmoid\n"
          ]
        }
      ]
    },
    {
      "cell_type": "code",
      "source": [
        "# with hyperparameters tuning\n",
        "\n",
        "NN_tuned = TwoLayerNetworkTrain(X_train, y_train, n_hidden = 15, n_epoch = 5, learning_rate = 0.001, activation = \"sigmoid\")\n",
        "print(\"Two-layer Neural Network classifier after hyperparameters tuning has the prediction performance as follows:\")\n",
        "NNmodel_eval(NN_tuned)"
      ],
      "metadata": {
        "colab": {
          "base_uri": "https://localhost:8080/"
        },
        "id": "0dkUQHOpq7BP",
        "outputId": "5b6d0818-fa8c-4c76-89aa-bdd292c20972"
      },
      "execution_count": null,
      "outputs": [
        {
          "output_type": "stream",
          "name": "stdout",
          "text": [
            "Two-layer Neural Network classifier after hyperparameters tuning has the prediction performance as follows:\n",
            "Training Accuracy: 0.751\n",
            "Test Accuracy: 0.713\n",
            "\n",
            "\n",
            "Training F1 Score: 0.771\n",
            "Test F1 Score: 0.618\n"
          ]
        }
      ]
    },
    {
      "cell_type": "markdown",
      "source": [
        "\n",
        "\n",
        "---\n",
        "\n",
        "\n",
        "## Result and Conclusion\n",
        "\n",
        "1. After hyperparameter tuning, the decision tree model showed slight improvements in accuracy and f1 scores on both the training and testing datasets.\n",
        "  \n",
        "  1.1 The original simple decision tree model used (max_depth = 1, min_samples_leaf = 50, criterion = \"entropy\"), and showed the following prediction performance:\n",
        "\n",
        "    * Training Accuracy: 0.738\n",
        "  \n",
        "    * Test Accuracy: 0.662\n",
        "\n",
        "    * Training F1 Score: 0.776\n",
        "  \n",
        "    * Test F1 Score: 0.595\n",
        "\n",
        "  1.2 The tuned decision tree classifier is more complex and deeper with (max_depth=10, min_samples_leaf=3, criterion = \"gini\"), and has the prediction performance as follows:\n",
        "\n",
        "    * Training Accuracy: 0.850\n",
        "    \n",
        "    * Test Accuracy: 0.743\n",
        "    \n",
        "    * Training F1 Score: 0.856\n",
        "    \n",
        "    * Test F1 Score: 0.607\n",
        "\n",
        "2. After hyperparameter tuning, the two-layer neural network model improved significantly in accuracy and f1 score.\n",
        "\n",
        "  2.1 The original two-layer neural network model used (n_hidden = 5, n_epoch = 1, learning_rate = 0.1, activation = \"tanh\") only has the following prediction performance:\n",
        "\n",
        "    * Training Accuracy: 0.334\n",
        "    \n",
        "    * Test Accuracy: 0.371\n",
        "\n",
        "    * Training F1 Score: 0.261\n",
        "\n",
        "    * Test F1 Score: 0.155\n",
        "\n",
        "  2.2. The tuned two-layer neural network model contains more hidden nodes (n_hidden = 15), more epoches (n_epoch = 5), and a smaller learning rate (learning_rate = 0.001). It also used a different activation function (activation = \"sigmoid\"). The performance has been improved so that:\n",
        "\n",
        "    * Training Accuracy: 0.751\n",
        "\n",
        "    * Test Accuracy: 0.713\n",
        "\n",
        "    * Training F1 Score: 0.771\n",
        "\n",
        "    * Test F1 Score: 0.618\n",
        "\n",
        "3. On the testing dataset, the two tuned models had very similar accuracy and f1 scores, with the two-layer neural network having a slightly higher test f1 score.\n",
        "\n",
        "4. Some additional considerations for increasing prediction power:\n",
        "\n",
        "  4.1 Both models can be further fine-tuned at a granular level and tested with additional hyperparameters. However, this can significantly increase computational time.\n",
        "\n",
        "  4.2 MLP can also be tried to test the accuracy and f1 score.\n"
      ],
      "metadata": {
        "id": "7L2KJ_g8esyu"
      }
    }
  ]
}